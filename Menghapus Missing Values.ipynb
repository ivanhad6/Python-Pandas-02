{
 "cells": [
  {
   "cell_type": "code",
   "execution_count": 1,
   "id": "8d8d881b",
   "metadata": {},
   "outputs": [
    {
     "name": "stdout",
     "output_type": "stream",
     "text": [
      "1.3.4\n"
     ]
    }
   ],
   "source": [
    "import pandas as pd\n",
    "\n",
    "print(pd.__version__)"
   ]
  },
  {
   "cell_type": "code",
   "execution_count": 2,
   "id": "192ddc31",
   "metadata": {},
   "outputs": [
    {
     "name": "stderr",
     "output_type": "stream",
     "text": [
      "C:\\Users\\AC\\anaconda3\\lib\\site-packages\\pandas\\util\\__init__.py:15: FutureWarning: pandas.util.testing is deprecated. Use the functions in the public API at pandas.testing instead.\n",
      "  import pandas.util.testing\n"
     ]
    },
    {
     "data": {
      "text/html": [
       "<div>\n",
       "<style scoped>\n",
       "    .dataframe tbody tr th:only-of-type {\n",
       "        vertical-align: middle;\n",
       "    }\n",
       "\n",
       "    .dataframe tbody tr th {\n",
       "        vertical-align: top;\n",
       "    }\n",
       "\n",
       "    .dataframe thead th {\n",
       "        text-align: right;\n",
       "    }\n",
       "</style>\n",
       "<table border=\"1\" class=\"dataframe\">\n",
       "  <thead>\n",
       "    <tr style=\"text-align: right;\">\n",
       "      <th></th>\n",
       "      <th>index</th>\n",
       "      <th>A</th>\n",
       "      <th>B</th>\n",
       "      <th>C</th>\n",
       "      <th>D</th>\n",
       "    </tr>\n",
       "  </thead>\n",
       "  <tbody>\n",
       "    <tr>\n",
       "      <th>0</th>\n",
       "      <td>13oSkFvckM</td>\n",
       "      <td>0.293070</td>\n",
       "      <td>-0.946267</td>\n",
       "      <td>-0.465425</td>\n",
       "      <td>0.717786</td>\n",
       "    </tr>\n",
       "    <tr>\n",
       "      <th>1</th>\n",
       "      <td>62uVxAeiVr</td>\n",
       "      <td>0.957724</td>\n",
       "      <td>0.873860</td>\n",
       "      <td>0.221160</td>\n",
       "      <td>-0.174691</td>\n",
       "    </tr>\n",
       "    <tr>\n",
       "      <th>2</th>\n",
       "      <td>ZLOcCFdY1C</td>\n",
       "      <td>-0.123708</td>\n",
       "      <td>-0.706277</td>\n",
       "      <td>0.449064</td>\n",
       "      <td>-0.575944</td>\n",
       "    </tr>\n",
       "    <tr>\n",
       "      <th>3</th>\n",
       "      <td>OWfPHmmR41</td>\n",
       "      <td>-1.892363</td>\n",
       "      <td>0.624476</td>\n",
       "      <td>0.703822</td>\n",
       "      <td>-1.007202</td>\n",
       "    </tr>\n",
       "    <tr>\n",
       "      <th>4</th>\n",
       "      <td>gmKc3d1GOD</td>\n",
       "      <td>1.059012</td>\n",
       "      <td>NaN</td>\n",
       "      <td>NaN</td>\n",
       "      <td>-0.286439</td>\n",
       "    </tr>\n",
       "  </tbody>\n",
       "</table>\n",
       "</div>"
      ],
      "text/plain": [
       "        index         A         B         C         D\n",
       "0  13oSkFvckM  0.293070 -0.946267 -0.465425  0.717786\n",
       "1  62uVxAeiVr  0.957724  0.873860  0.221160 -0.174691\n",
       "2  ZLOcCFdY1C -0.123708 -0.706277  0.449064 -0.575944\n",
       "3  OWfPHmmR41 -1.892363  0.624476  0.703822 -1.007202\n",
       "4  gmKc3d1GOD  1.059012       NaN       NaN -0.286439"
      ]
     },
     "execution_count": 2,
     "metadata": {},
     "output_type": "execute_result"
    }
   ],
   "source": [
    "#Data Frame yang akan digunakan\n",
    "df = pd.util.testing.makeMissingDataframe().reset_index()\n",
    "df.head()"
   ]
  },
  {
   "cell_type": "code",
   "execution_count": 3,
   "id": "7b72077e",
   "metadata": {},
   "outputs": [
    {
     "data": {
      "text/html": [
       "<div>\n",
       "<style scoped>\n",
       "    .dataframe tbody tr th:only-of-type {\n",
       "        vertical-align: middle;\n",
       "    }\n",
       "\n",
       "    .dataframe tbody tr th {\n",
       "        vertical-align: top;\n",
       "    }\n",
       "\n",
       "    .dataframe thead th {\n",
       "        text-align: right;\n",
       "    }\n",
       "</style>\n",
       "<table border=\"1\" class=\"dataframe\">\n",
       "  <thead>\n",
       "    <tr style=\"text-align: right;\">\n",
       "      <th></th>\n",
       "      <th>Z</th>\n",
       "      <th>A</th>\n",
       "      <th>B</th>\n",
       "      <th>C</th>\n",
       "      <th>D</th>\n",
       "    </tr>\n",
       "  </thead>\n",
       "  <tbody>\n",
       "    <tr>\n",
       "      <th>0</th>\n",
       "      <td>13oSkFvckM</td>\n",
       "      <td>0.293070</td>\n",
       "      <td>-0.946267</td>\n",
       "      <td>-0.465425</td>\n",
       "      <td>0.717786</td>\n",
       "    </tr>\n",
       "    <tr>\n",
       "      <th>1</th>\n",
       "      <td>62uVxAeiVr</td>\n",
       "      <td>0.957724</td>\n",
       "      <td>0.873860</td>\n",
       "      <td>0.221160</td>\n",
       "      <td>-0.174691</td>\n",
       "    </tr>\n",
       "    <tr>\n",
       "      <th>2</th>\n",
       "      <td>ZLOcCFdY1C</td>\n",
       "      <td>-0.123708</td>\n",
       "      <td>-0.706277</td>\n",
       "      <td>0.449064</td>\n",
       "      <td>-0.575944</td>\n",
       "    </tr>\n",
       "    <tr>\n",
       "      <th>3</th>\n",
       "      <td>OWfPHmmR41</td>\n",
       "      <td>-1.892363</td>\n",
       "      <td>0.624476</td>\n",
       "      <td>0.703822</td>\n",
       "      <td>-1.007202</td>\n",
       "    </tr>\n",
       "    <tr>\n",
       "      <th>4</th>\n",
       "      <td>gmKc3d1GOD</td>\n",
       "      <td>1.059012</td>\n",
       "      <td>NaN</td>\n",
       "      <td>NaN</td>\n",
       "      <td>-0.286439</td>\n",
       "    </tr>\n",
       "  </tbody>\n",
       "</table>\n",
       "</div>"
      ],
      "text/plain": [
       "            Z         A         B         C         D\n",
       "0  13oSkFvckM  0.293070 -0.946267 -0.465425  0.717786\n",
       "1  62uVxAeiVr  0.957724  0.873860  0.221160 -0.174691\n",
       "2  ZLOcCFdY1C -0.123708 -0.706277  0.449064 -0.575944\n",
       "3  OWfPHmmR41 -1.892363  0.624476  0.703822 -1.007202\n",
       "4  gmKc3d1GOD  1.059012       NaN       NaN -0.286439"
      ]
     },
     "execution_count": 3,
     "metadata": {},
     "output_type": "execute_result"
    }
   ],
   "source": [
    "#Merubah kata index menjadi huruf Z\n",
    "df= df.rename(columns={'index':'Z'})\n",
    "df.head()"
   ]
  },
  {
   "cell_type": "code",
   "execution_count": 4,
   "id": "d72093bf",
   "metadata": {},
   "outputs": [],
   "source": [
    "#untuk mengopy tabel sebelumnya\n",
    "df_backup = df.copy(deep=True)"
   ]
  },
  {
   "cell_type": "code",
   "execution_count": 5,
   "id": "2ffa3318",
   "metadata": {},
   "outputs": [
    {
     "data": {
      "text/html": [
       "<div>\n",
       "<style scoped>\n",
       "    .dataframe tbody tr th:only-of-type {\n",
       "        vertical-align: middle;\n",
       "    }\n",
       "\n",
       "    .dataframe tbody tr th {\n",
       "        vertical-align: top;\n",
       "    }\n",
       "\n",
       "    .dataframe thead th {\n",
       "        text-align: right;\n",
       "    }\n",
       "</style>\n",
       "<table border=\"1\" class=\"dataframe\">\n",
       "  <thead>\n",
       "    <tr style=\"text-align: right;\">\n",
       "      <th></th>\n",
       "      <th>Z</th>\n",
       "    </tr>\n",
       "  </thead>\n",
       "  <tbody>\n",
       "    <tr>\n",
       "      <th>0</th>\n",
       "      <td>13oSkFvckM</td>\n",
       "    </tr>\n",
       "    <tr>\n",
       "      <th>1</th>\n",
       "      <td>62uVxAeiVr</td>\n",
       "    </tr>\n",
       "    <tr>\n",
       "      <th>2</th>\n",
       "      <td>ZLOcCFdY1C</td>\n",
       "    </tr>\n",
       "    <tr>\n",
       "      <th>3</th>\n",
       "      <td>OWfPHmmR41</td>\n",
       "    </tr>\n",
       "    <tr>\n",
       "      <th>4</th>\n",
       "      <td>gmKc3d1GOD</td>\n",
       "    </tr>\n",
       "  </tbody>\n",
       "</table>\n",
       "</div>"
      ],
      "text/plain": [
       "            Z\n",
       "0  13oSkFvckM\n",
       "1  62uVxAeiVr\n",
       "2  ZLOcCFdY1C\n",
       "3  OWfPHmmR41\n",
       "4  gmKc3d1GOD"
      ]
     },
     "execution_count": 5,
     "metadata": {},
     "output_type": "execute_result"
    }
   ],
   "source": [
    "#Untuk menghapus atau drop setiap kolom yang mengandung missing values\n",
    "df= df.dropna(axis='columns')\n",
    "df.head()"
   ]
  },
  {
   "cell_type": "code",
   "execution_count": 6,
   "id": "891c0bf1",
   "metadata": {},
   "outputs": [
    {
     "data": {
      "text/html": [
       "<div>\n",
       "<style scoped>\n",
       "    .dataframe tbody tr th:only-of-type {\n",
       "        vertical-align: middle;\n",
       "    }\n",
       "\n",
       "    .dataframe tbody tr th {\n",
       "        vertical-align: top;\n",
       "    }\n",
       "\n",
       "    .dataframe thead th {\n",
       "        text-align: right;\n",
       "    }\n",
       "</style>\n",
       "<table border=\"1\" class=\"dataframe\">\n",
       "  <thead>\n",
       "    <tr style=\"text-align: right;\">\n",
       "      <th></th>\n",
       "      <th>Z</th>\n",
       "      <th>A</th>\n",
       "      <th>B</th>\n",
       "      <th>C</th>\n",
       "      <th>D</th>\n",
       "    </tr>\n",
       "  </thead>\n",
       "  <tbody>\n",
       "    <tr>\n",
       "      <th>0</th>\n",
       "      <td>13oSkFvckM</td>\n",
       "      <td>0.293070</td>\n",
       "      <td>-0.946267</td>\n",
       "      <td>-0.465425</td>\n",
       "      <td>0.717786</td>\n",
       "    </tr>\n",
       "    <tr>\n",
       "      <th>1</th>\n",
       "      <td>62uVxAeiVr</td>\n",
       "      <td>0.957724</td>\n",
       "      <td>0.873860</td>\n",
       "      <td>0.221160</td>\n",
       "      <td>-0.174691</td>\n",
       "    </tr>\n",
       "    <tr>\n",
       "      <th>2</th>\n",
       "      <td>ZLOcCFdY1C</td>\n",
       "      <td>-0.123708</td>\n",
       "      <td>-0.706277</td>\n",
       "      <td>0.449064</td>\n",
       "      <td>-0.575944</td>\n",
       "    </tr>\n",
       "    <tr>\n",
       "      <th>3</th>\n",
       "      <td>OWfPHmmR41</td>\n",
       "      <td>-1.892363</td>\n",
       "      <td>0.624476</td>\n",
       "      <td>0.703822</td>\n",
       "      <td>-1.007202</td>\n",
       "    </tr>\n",
       "    <tr>\n",
       "      <th>5</th>\n",
       "      <td>k4QT4MIFUa</td>\n",
       "      <td>-0.420186</td>\n",
       "      <td>-0.536737</td>\n",
       "      <td>0.360010</td>\n",
       "      <td>0.186874</td>\n",
       "    </tr>\n",
       "  </tbody>\n",
       "</table>\n",
       "</div>"
      ],
      "text/plain": [
       "            Z         A         B         C         D\n",
       "0  13oSkFvckM  0.293070 -0.946267 -0.465425  0.717786\n",
       "1  62uVxAeiVr  0.957724  0.873860  0.221160 -0.174691\n",
       "2  ZLOcCFdY1C -0.123708 -0.706277  0.449064 -0.575944\n",
       "3  OWfPHmmR41 -1.892363  0.624476  0.703822 -1.007202\n",
       "5  k4QT4MIFUa -0.420186 -0.536737  0.360010  0.186874"
      ]
     },
     "execution_count": 6,
     "metadata": {},
     "output_type": "execute_result"
    }
   ],
   "source": [
    "#Berfungsi untuk menghapus(drop) setiap baris yang mengandung missing values\n",
    "\n",
    "df= df_backup.copy(deep=True) #untuk mengcopy data sebelumnya\n",
    "df= df.dropna(axis='rows')\n",
    "df.head()"
   ]
  },
  {
   "cell_type": "code",
   "execution_count": 7,
   "id": "9513fc71",
   "metadata": {},
   "outputs": [
    {
     "data": {
      "text/plain": [
       "Z    0.000000\n",
       "A    0.100000\n",
       "B    0.133333\n",
       "C    0.100000\n",
       "D    0.066667\n",
       "dtype: float64"
      ]
     },
     "execution_count": 7,
     "metadata": {},
     "output_type": "execute_result"
    }
   ],
   "source": [
    "#Memunculkan presentase missing values untuk tiap kolom\n",
    "\n",
    "df= df_backup.copy(deep=True)\n",
    "df.isna().mean()"
   ]
  },
  {
   "cell_type": "code",
   "execution_count": 8,
   "id": "91e86cba",
   "metadata": {},
   "outputs": [
    {
     "data": {
      "text/html": [
       "<div>\n",
       "<style scoped>\n",
       "    .dataframe tbody tr th:only-of-type {\n",
       "        vertical-align: middle;\n",
       "    }\n",
       "\n",
       "    .dataframe tbody tr th {\n",
       "        vertical-align: top;\n",
       "    }\n",
       "\n",
       "    .dataframe thead th {\n",
       "        text-align: right;\n",
       "    }\n",
       "</style>\n",
       "<table border=\"1\" class=\"dataframe\">\n",
       "  <thead>\n",
       "    <tr style=\"text-align: right;\">\n",
       "      <th></th>\n",
       "      <th>Z</th>\n",
       "      <th>A</th>\n",
       "      <th>C</th>\n",
       "      <th>D</th>\n",
       "    </tr>\n",
       "  </thead>\n",
       "  <tbody>\n",
       "    <tr>\n",
       "      <th>0</th>\n",
       "      <td>13oSkFvckM</td>\n",
       "      <td>0.293070</td>\n",
       "      <td>-0.465425</td>\n",
       "      <td>0.717786</td>\n",
       "    </tr>\n",
       "    <tr>\n",
       "      <th>1</th>\n",
       "      <td>62uVxAeiVr</td>\n",
       "      <td>0.957724</td>\n",
       "      <td>0.221160</td>\n",
       "      <td>-0.174691</td>\n",
       "    </tr>\n",
       "    <tr>\n",
       "      <th>2</th>\n",
       "      <td>ZLOcCFdY1C</td>\n",
       "      <td>-0.123708</td>\n",
       "      <td>0.449064</td>\n",
       "      <td>-0.575944</td>\n",
       "    </tr>\n",
       "    <tr>\n",
       "      <th>3</th>\n",
       "      <td>OWfPHmmR41</td>\n",
       "      <td>-1.892363</td>\n",
       "      <td>0.703822</td>\n",
       "      <td>-1.007202</td>\n",
       "    </tr>\n",
       "    <tr>\n",
       "      <th>4</th>\n",
       "      <td>gmKc3d1GOD</td>\n",
       "      <td>1.059012</td>\n",
       "      <td>NaN</td>\n",
       "      <td>-0.286439</td>\n",
       "    </tr>\n",
       "  </tbody>\n",
       "</table>\n",
       "</div>"
      ],
      "text/plain": [
       "            Z         A         C         D\n",
       "0  13oSkFvckM  0.293070 -0.465425  0.717786\n",
       "1  62uVxAeiVr  0.957724  0.221160 -0.174691\n",
       "2  ZLOcCFdY1C -0.123708  0.449064 -0.575944\n",
       "3  OWfPHmmR41 -1.892363  0.703822 -1.007202\n",
       "4  gmKc3d1GOD  1.059012       NaN -0.286439"
      ]
     },
     "execution_count": 8,
     "metadata": {},
     "output_type": "execute_result"
    }
   ],
   "source": [
    "#Berfungsi untuk menghapus (drop) kolom yang mengandung missing values berdasarkanthreshold tertentu\n",
    "\n",
    "treshold= len(df)*0.9 #pertama menentukan ambang batasnya terlebih dahulu\n",
    "\n",
    "df= df.dropna(thresh=treshold, axis='columns')\n",
    "df.head()"
   ]
  },
  {
   "cell_type": "code",
   "execution_count": null,
   "id": "43b57a47",
   "metadata": {},
   "outputs": [],
   "source": []
  }
 ],
 "metadata": {
  "kernelspec": {
   "display_name": "Python 3 (ipykernel)",
   "language": "python",
   "name": "python3"
  },
  "language_info": {
   "codemirror_mode": {
    "name": "ipython",
    "version": 3
   },
   "file_extension": ".py",
   "mimetype": "text/x-python",
   "name": "python",
   "nbconvert_exporter": "python",
   "pygments_lexer": "ipython3",
   "version": "3.9.7"
  }
 },
 "nbformat": 4,
 "nbformat_minor": 5
}
